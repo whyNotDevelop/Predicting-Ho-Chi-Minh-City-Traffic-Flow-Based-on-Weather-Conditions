{
  "nbformat": 4,
  "nbformat_minor": 0,
  "metadata": {
    "colab": {
      "provenance": []
    },
    "kernelspec": {
      "name": "python3",
      "display_name": "Python 3"
    },
    "language_info": {
      "name": "python"
    }
  },
  "cells": [
    {
      "cell_type": "code",
      "execution_count": 14,
      "metadata": {
        "colab": {
          "base_uri": "https://localhost:8080/"
        },
        "id": "JkHzwPXVMmB6",
        "outputId": "baaf0ab1-c7cc-45f0-f97f-a82ba0ab437c"
      },
      "outputs": [
        {
          "output_type": "stream",
          "name": "stdout",
          "text": [
            "Drive already mounted at /content/drive; to attempt to forcibly remount, call drive.mount(\"/content/drive\", force_remount=True).\n"
          ]
        }
      ],
      "source": [
        "# Mount Google Drive to access the data file\n",
        "from google.colab import drive\n",
        "drive.mount('/content/drive')"
      ]
    },
    {
      "cell_type": "markdown",
      "source": [
        "Import Required Libraries"
      ],
      "metadata": {
        "id": "8NIXDN6-NEvn"
      }
    },
    {
      "cell_type": "code",
      "source": [
        "import pandas as pd\n"
      ],
      "metadata": {
        "id": "1IuZyjRtNEa1"
      },
      "execution_count": 15,
      "outputs": []
    },
    {
      "cell_type": "markdown",
      "source": [
        "Load the datasets"
      ],
      "metadata": {
        "id": "PdGxCp8SNhgG"
      }
    },
    {
      "cell_type": "code",
      "source": [
        "traffic_data_path = r\"/content/drive/MyDrive/Predicting City Traffic Flow Based on Weather and Events/cleaned_traffic_weather_dataset.csv\"\n",
        "weather_data_path = r\"/content/drive/MyDrive/Predicting City Traffic Flow Based on Weather and Events/weather.csv\"\n",
        "\n",
        "traffic_df = pd.read_csv(traffic_data_path)\n",
        "weather_df = pd.read_csv(weather_data_path)"
      ],
      "metadata": {
        "id": "5jqWXFD9NhXy"
      },
      "execution_count": 16,
      "outputs": []
    },
    {
      "cell_type": "markdown",
      "source": [
        "Parse datetime columns for aggregation"
      ],
      "metadata": {
        "id": "vJgwqLs0NhRM"
      }
    },
    {
      "cell_type": "code",
      "source": [
        "traffic_df['date'] = pd.to_datetime(traffic_df['updated_at_30min']).dt.date\n",
        "weather_df['date'] = pd.to_datetime(weather_df['date']).dt.date"
      ],
      "metadata": {
        "id": "UDBZgsAGNhI4"
      },
      "execution_count": 17,
      "outputs": []
    },
    {
      "cell_type": "markdown",
      "source": [
        "Aggregate traffic data to daily level"
      ],
      "metadata": {
        "id": "NbuWziNYNg79"
      }
    },
    {
      "cell_type": "code",
      "source": [
        "traffic_daily = traffic_df.groupby('date').agg({\n",
        "    'velocity': ['mean', 'median', 'std'],\n",
        "    'long': 'first',\n",
        "    'lat': 'first',\n",
        "    'street_level': 'first',\n",
        "    'e_node_id': 'first',\n",
        "    'length': 'mean',\n",
        "    'street_type': 'first'\n",
        "}).reset_index()\n"
      ],
      "metadata": {
        "id": "Nd2lD3mhNgx0"
      },
      "execution_count": 18,
      "outputs": []
    },
    {
      "cell_type": "markdown",
      "source": [
        "Rename columns for better readability"
      ],
      "metadata": {
        "id": "EFKcXcovNgpV"
      }
    },
    {
      "cell_type": "code",
      "source": [
        "traffic_daily.columns = ['date', 'mean_velocity', 'median_velocity', 'std_velocity',\n",
        "                         'long', 'lat', 'street_level', 'e_node_id', 'length', 'street_type']\n"
      ],
      "metadata": {
        "id": "8p2tLIkcNgWJ"
      },
      "execution_count": 19,
      "outputs": []
    },
    {
      "cell_type": "markdown",
      "source": [
        " Merge with weather data"
      ],
      "metadata": {
        "id": "nFhgev0sN_4T"
      }
    },
    {
      "cell_type": "code",
      "source": [
        "merged_df = pd.merge(weather_df, traffic_daily, on='date', how='inner')"
      ],
      "metadata": {
        "id": "pkHsnXLeN_mi"
      },
      "execution_count": 20,
      "outputs": []
    },
    {
      "cell_type": "markdown",
      "source": [
        "Drop rows with missing values after merge"
      ],
      "metadata": {
        "id": "fflqsk93OOsw"
      }
    },
    {
      "cell_type": "code",
      "source": [
        "merged_df = merged_df.dropna()"
      ],
      "metadata": {
        "id": "ZrysSch_OOTh"
      },
      "execution_count": 21,
      "outputs": []
    },
    {
      "cell_type": "markdown",
      "source": [
        "Missing Values"
      ],
      "metadata": {
        "id": "hZvvrFABQiVw"
      }
    },
    {
      "cell_type": "code",
      "source": [
        "missing_values = merged_df.isnull().sum()\n",
        "print(\"missing values:\\n\",missing_values)"
      ],
      "metadata": {
        "colab": {
          "base_uri": "https://localhost:8080/"
        },
        "id": "TbVSGkk_Qh4S",
        "outputId": "1764f5db-e469-4ad8-892e-8c65fefb3868"
      },
      "execution_count": 22,
      "outputs": [
        {
          "output_type": "stream",
          "name": "stdout",
          "text": [
            "missing values:\n",
            " province           0\n",
            "max                0\n",
            "min                0\n",
            "wind               0\n",
            "wind_d             0\n",
            "rain               0\n",
            "humidi             0\n",
            "cloud              0\n",
            "pressure           0\n",
            "date               0\n",
            "mean_velocity      0\n",
            "median_velocity    0\n",
            "std_velocity       0\n",
            "long               0\n",
            "lat                0\n",
            "street_level       0\n",
            "e_node_id          0\n",
            "length             0\n",
            "street_type        0\n",
            "dtype: int64\n"
          ]
        }
      ]
    },
    {
      "cell_type": "markdown",
      "source": [
        "Save the merged dataframe to a new CSV file"
      ],
      "metadata": {
        "id": "wZV0NFMkOay9"
      }
    },
    {
      "cell_type": "code",
      "source": [
        "output_path = r\"/content/drive/MyDrive/Predicting City Traffic Flow Based on Weather and Events/daily_traffic_weather.csv\"\n",
        "merged_df.to_csv(output_path, index=False)\n",
        "\n",
        "print(f\"Merged dataset saved to: {output_path}\")"
      ],
      "metadata": {
        "colab": {
          "base_uri": "https://localhost:8080/"
        },
        "id": "2JSiW9B-OaLl",
        "outputId": "bbcc2a44-ad84-47c7-ece9-2cdc68a4a88f"
      },
      "execution_count": 23,
      "outputs": [
        {
          "output_type": "stream",
          "name": "stdout",
          "text": [
            "Merged dataset saved to: /content/drive/MyDrive/Predicting City Traffic Flow Based on Weather and Events/daily_traffic_weather.csv\n"
          ]
        }
      ]
    }
  ]
}