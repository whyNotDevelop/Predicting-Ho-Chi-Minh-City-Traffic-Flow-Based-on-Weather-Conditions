{
  "nbformat": 4,
  "nbformat_minor": 0,
  "metadata": {
    "colab": {
      "provenance": []
    },
    "kernelspec": {
      "name": "python3",
      "display_name": "Python 3"
    },
    "language_info": {
      "name": "python"
    }
  },
  "cells": [
    {
      "cell_type": "markdown",
      "source": [
        "# Project Documentation: Traffic Flow Prediction Based on Weather\n",
        "\n",
        "\n",
        "\n",
        "\n",
        "\n",
        "\n",
        "\n",
        "\n",
        "\n",
        "\n",
        "\n",
        "\n",
        "\n",
        "\n",
        "\n",
        "\n",
        "\n",
        "\n",
        "\n",
        "\n",
        "\n",
        "\n",
        "\n"
      ],
      "metadata": {
        "id": "M7--EdIctwLr"
      }
    },
    {
      "cell_type": "markdown",
      "source": [
        "\n",
        "## 1. Introduction\n",
        "\n",
        "The **Traffic Flow Prediction Based on Weather** project is a data-driven initiative aimed at understanding and predicting the impact of weather on urban traffic flow. By combining weather data with traffic patterns, this project seeks to improve traffic management and decision-making in urban areas.\n",
        "\n",
        "\n",
        "## 2. Problem Statement\n",
        "\n",
        "Traffic congestion in urban areas causes delays, reduced productivity, and environmental strain. Weather conditions significantly influence traffic flow, but their role is often underutilized in traffic prediction models. This project addresses this gap by building a robust predictive model to forecast traffic velocity based on weather and road attributes.\n",
        "\n",
        "\n",
        "## 3. Objectives\n",
        "\n",
        "1. **Analyze** the influence of weather conditions on traffic flow.  \n",
        "2. **Develop** a predictive model to forecast traffic velocity based on weather data.  \n",
        "3. **Provide** actionable insights for effective traffic management and planning.  \n",
        "\n",
        "\n",
        "## 4. Tools and Technologies\n",
        "\n",
        "- **Programming Language**: Python  \n",
        "- **Libraries**: Pandas, Matplotlib, Seaborn, XGBoost, Scikit-learn  \n",
        "- **Application Framework**: Streamlit  \n",
        "- **Development Tools**: Jupyter Notebook, Visual Studio Code  \n"
      ],
      "metadata": {
        "id": "pVFsOu7QLlG0"
      }
    },
    {
      "cell_type": "markdown",
      "source": [
        "## 5. Data Loading\n",
        "\n",
        "We began by loading two datasets:\n",
        "\n",
        "1. **Traffic Flow Data in Ho Chi Minh City**:\n",
        "   - Contains detailed traffic data such as segment velocity, updated timestamps, and geographical information.\n",
        "   - **Key Files**:\n",
        "     - `segment_status.csv`: Traffic velocities for road segments.\n",
        "     - `segments.csv`: Segment details like street name and max velocity.\n",
        "\n",
        "2. **Vietnam Weather Data**:\n",
        "   - Includes weather records (2009–2021) for 40 provinces in Vietnam, covering factors like temperature, humidity, wind speed, and rainfall.\n",
        "\n"
      ],
      "metadata": {
        "id": "dJwrUJhUJZW7"
      }
    },
    {
      "cell_type": "markdown",
      "source": [
        "## 6. Data Slicing and Feature Selection\n",
        "\n",
        "Key features were identified and selected from the datasets:\n",
        "- **Traffic Data**:\n",
        "  - `segment_id`, `velocity`, `updated_at_30min` (timestamp), `length`, and segment-specific attributes.\n",
        "- **Weather Data**:\n",
        "  - `rain`, `max`, `min`, `humidi` (humidity), `cloud` (cloud cover), and `pressure`.\n",
        "\n",
        "This allowed us to focus on the most relevant factors for analyzing traffic flow and its relationship to weather."
      ],
      "metadata": {
        "id": "fGa0uFx2JZnG"
      }
    },
    {
      "cell_type": "markdown",
      "source": [
        "## 7. Feature Engineering\n",
        "\n",
        "We introduced additional features to enhance the dataset:\n",
        "- **Date and Time Features**:\n",
        "  - Extracted `year`, `month`, `day`, and `hour` from timestamps.\n",
        "- **Geographical Mapping**:\n",
        "  - Used `lat` (latitude) and `long` (longitude) for spatial visualizations.\n",
        "- **Traffic Segments**:\n",
        "  - Merged street-level details like `street_level` and `street_type`.\n"
      ],
      "metadata": {
        "id": "uiXOYTtgJZe1"
      }
    },
    {
      "cell_type": "markdown",
      "source": [
        "## 8. Data Cleaning and Merging\n",
        "\n",
        "- **Handling Missing Values**:\n",
        "  - Removed or imputed missing entries where necessary.\n",
        "  - Ensured date and time fields were correctly parsed.\n",
        "\n",
        "- **Outlier Handling**:\n",
        "  - Used the **Interquartile Range (IQR)** method to remove outliers in key columns like `velocity` and `rain`.\n",
        "\n",
        "- **Dataset Merging**:\n",
        "  - Joined traffic and weather datasets using `date`, `time`, and `city` as keys.\n",
        "  - The resulting dataset included a comprehensive combination of traffic velocities, geographical coordinates, and weather conditions.\n"
      ],
      "metadata": {
        "id": "Z8NLgXEvJZL5"
      }
    },
    {
      "cell_type": "markdown",
      "source": [
        "## 9. Daily Aggregated Data\n",
        "\n",
        "\n",
        "\n",
        "To simplify analysis and modeling, we created the **Daily Aggregated Data** dataset:\n",
        "- **Creation**:\n",
        "  - Aggregated the cleaned and merged dataset by `date`.\n",
        "  - Calculated daily statistical summaries for `velocity` (mean, median, standard deviation) and included daily averages for weather attributes (`rain`, `humidity`, `cloud`, `pressure`, etc.).\n",
        "  - Incorporated street-level and geographical features.\n",
        "\n",
        "- **Purpose**:\n",
        "  - The Daily Aggregated Data provides a higher-level view of traffic and weather trends over time, reducing data granularity while retaining critical patterns and relationships.\n"
      ],
      "metadata": {
        "id": "4q_4e6x1JZDI"
      }
    },
    {
      "cell_type": "markdown",
      "source": [
        "## 10. Exploratory Data Analysis (EDA)\n",
        "\n",
        "Using Streamlit, we performed EDA to understand the dataset better:\n",
        "- **Descriptive Statistics**:\n",
        "  - Displayed summary statistics of key columns like `velocity`, `rain`, and `humidi`.\n",
        "\n",
        "- **Correlation Heatmap**:\n",
        "  - Highlighted relationships between features using a heatmap, identifying key predictors of traffic velocity.\n",
        "\n",
        "- **Traffic Velocity Distribution**:\n",
        "  - Visualized the distribution of `velocity` values to analyze variability.\n",
        "\n",
        "- **Time Series Analysis**:\n",
        "  - Explored trends in `mean_velocity` and `median_velocity` over time using line plots.\n",
        "  - Compared `min` and `max` temperature trends for daily analysis."
      ],
      "metadata": {
        "id": "jubZGpYWJY54"
      }
    },
    {
      "cell_type": "markdown",
      "source": [
        "## 11. Machine Learning: Model Development and Evaluation\n",
        "\n",
        "### Random Forest Model\n",
        "- **Model Selection**:\n",
        "  - Chose Random Forest due to its robustness in handling non-linear relationships and feature interactions.\n",
        "\n",
        "- **Data Preparation**:\n",
        "  - Used the aggregated dataset, focusing on weather attributes and street-level features as predictors.\n",
        "  - Target variable: `mean_velocity` (daily mean traffic velocity).\n",
        "\n",
        "- **Model Training**:\n",
        "  - Trained a Random Forest Regressor on 80% of the data (training set) and validated on 20% (test set).\n",
        "\n",
        "- **Evaluation Metrics**:\n",
        "  - Calculated **Mean Absolute Error (MAE)** 1.73 and **R² score** 0.95 to assess model performance.\n",
        "\n",
        "- **Deployment**:\n",
        "  - Saved the trained model using Pickle for integration into the Streamlit app.\n",
        "\n",
        "### XGBoost Model\n",
        "- **Implementation**:\n",
        "  - Trained an **XGBoost Regressor** as an alternative to **Random Forest**.\n",
        "\n",
        "- **Evaluation**:\n",
        "  - Compared the performance of Random Forest and XGBoost using **MAE**  0.03\n",
        " and R² score 1.00.\n",
        "  - XGBoost outperformed Random Forest, leading to its selection for deployment.\n"
      ],
      "metadata": {
        "id": "a9RHNSdNJYvc"
      }
    },
    {
      "cell_type": "markdown",
      "source": [
        "## 12. Clustering: K-Means Model\n",
        "\n",
        "- **Objective**:\n",
        "  - Uncover hidden patterns in traffic and weather data.\n",
        "\n",
        "- **Implementation**:\n",
        "  - Applied K-Means clustering to group data points based on similarities.\n",
        "  - Chose an optimal number of clusters using the elbow method.\n",
        "\n",
        "- **Insights**:\n",
        "  - Identified distinct patterns in traffic behavior under different weather conditions.\n",
        "\n",
        "- **Integration**:\n",
        "  - Incorporated clustering results into the Streamlit app for interactive visualization and analysis.\n",
        "\n"
      ],
      "metadata": {
        "id": "VLNhgKEbJYjT"
      }
    },
    {
      "cell_type": "markdown",
      "source": [
        "\n",
        "## 13. Challenges and Solutions\n",
        "\n",
        "### Challenge 1: Merging Traffic and Weather Data  \n",
        "- **Solution**: Ensured proper alignment of datasets based on date and time.\n",
        "\n",
        "### Challenge 2: Outliers in Traffic Data  \n",
        "- **Solution**: Used the IQR method to remove extreme values.\n",
        "\n",
        "### Challenge 3: Model Optimization  \n",
        "- **Solution**: Fine-tuned the XGBoost Regressor to improve accuracy and reduce prediction error.\n",
        "\n"
      ],
      "metadata": {
        "id": "DfoAMCouTlxS"
      }
    },
    {
      "cell_type": "markdown",
      "source": [
        "##14. Conclusion\n",
        "\n",
        "The project effectively predicts traffic flow using weather attributes, providing valuable insights for urban traffic management. Future developments will further improve its predictive accuracy and real-time capabilities."
      ],
      "metadata": {
        "id": "LhHeH2xQWDpz"
      }
    }
  ]
}