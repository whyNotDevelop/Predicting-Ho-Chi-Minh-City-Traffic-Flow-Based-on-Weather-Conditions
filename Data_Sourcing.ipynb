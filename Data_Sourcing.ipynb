{
  "nbformat": 4,
  "nbformat_minor": 0,
  "metadata": {
    "colab": {
      "provenance": []
    },
    "kernelspec": {
      "name": "python3",
      "display_name": "Python 3"
    },
    "language_info": {
      "name": "python"
    }
  },
  "cells": [
    {
      "cell_type": "markdown",
      "source": [
        "# **Data Sourcing**\n",
        "\n",
        "## 1. Traffic Flow Data in Ho Chi Minh City\n",
        "- **Dataset URL**: [Traffic Flow Data in Ho Chi Minh City](https://www.kaggle.com/datasets/thanhnguyen2612/traffic-flow-data-in-ho-chi-minh-city-viet-nam/data)\n",
        "- **Purpose**: This dataset provides traffic data, segmented by location and time, with traffic conditions marked by Level of Service (LOS) and measured by velocity. It offers historical traffic flow data based on different periods of the day.\n",
        "- **Files**:\n",
        "  - **`segment_status.csv`**: This file gives traffic status (like velocity) for each road segment over time.\n",
        "  - **`segments.csv`**: Contains details on each segment, including start and end nodes, segment length, street name, and maximum allowable velocity.\n",
        "  - **`nodes.csv`**: Lists specific geographical points (latitude and longitude) that connect different segments.\n",
        "  - **`streets.csv`**: Provides broader details about each street, including street name, level, type, and maximum velocity.\n",
        "\n",
        "- **Data Usage**:\n",
        "  - Use `segment_status.csv` to track traffic patterns (velocity) over time for each segment. The velocity data can directly represent traffic flow levels.\n",
        "  - Combine with `segments.csv` to get contextual information on each segment, like street name, maximum allowable velocity, and geographical connections.\n",
        "  - Use `nodes.csv` and `streets.csv` for mapping and spatial analysis, if you want to visualize traffic patterns on a map of Ho Chi Minh City.\n",
        "\n",
        "## 2. Vietnam Weather Data\n",
        "- **Dataset URL**: [Vietnam Weather Data](https://www.kaggle.com/datasets/vanviethieuanh/vietnam-weather-data)\n",
        "- **Purpose**: This dataset records weather conditions across Vietnamese provinces, including Ho Chi Minh City, and spans from 2009 to mid-2021. It covers weather features such as temperature, humidity, wind speed, and rainfall, which are essential to understand the influence of weather on traffic flow.\n",
        "- **Content**:\n",
        "  - Contains daily weather records for 40 cities or provinces, including features like temperature, humidity, wind speed, pressure, and rainfall.\n",
        "  - For the purposes of this project, focus on data specifically from **Ho Chi Minh City** to align with the traffic dataset.\n",
        "\n",
        "- **Data Usage**:\n",
        "  - Merge this weather data with traffic data on date, time, and city (Ho Chi Minh City).\n",
        "  - Use features like temperature, humidity, and rainfall as predictors in your model, as these factors can impact traffic conditions.\n"
      ],
      "metadata": {
        "id": "uABdcWxwC9Ao"
      }
    }
  ]
}